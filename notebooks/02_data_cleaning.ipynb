{
 "cells": [
  {
   "cell_type": "markdown",
   "id": "1c02a247",
   "metadata": {},
   "source": [
    "The parameter engine='openpyxl' is specified in pd.read_excel() to explicitly tell pandas to use the OpenPyXL library for reading .xlsx files"
   ]
  },
  {
   "cell_type": "code",
   "execution_count": 21,
   "id": "fbdbb514",
   "metadata": {},
   "outputs": [
    {
     "name": "stdout",
     "output_type": "stream",
     "text": [
      "<class 'pandas.core.frame.DataFrame'>\n",
      "RangeIndex: 541909 entries, 0 to 541908\n",
      "Data columns (total 8 columns):\n",
      " #   Column       Non-Null Count   Dtype         \n",
      "---  ------       --------------   -----         \n",
      " 0   InvoiceNo    541909 non-null  object        \n",
      " 1   StockCode    541909 non-null  object        \n",
      " 2   Description  540455 non-null  object        \n",
      " 3   Quantity     541909 non-null  int64         \n",
      " 4   InvoiceDate  541909 non-null  datetime64[ns]\n",
      " 5   UnitPrice    541909 non-null  float64       \n",
      " 6   CustomerID   406829 non-null  float64       \n",
      " 7   Country      541909 non-null  object        \n",
      "dtypes: datetime64[ns](1), float64(2), int64(1), object(4)\n",
      "memory usage: 33.1+ MB\n"
     ]
    },
    {
     "data": {
      "text/html": [
       "<div>\n",
       "<style scoped>\n",
       "    .dataframe tbody tr th:only-of-type {\n",
       "        vertical-align: middle;\n",
       "    }\n",
       "\n",
       "    .dataframe tbody tr th {\n",
       "        vertical-align: top;\n",
       "    }\n",
       "\n",
       "    .dataframe thead th {\n",
       "        text-align: right;\n",
       "    }\n",
       "</style>\n",
       "<table border=\"1\" class=\"dataframe\">\n",
       "  <thead>\n",
       "    <tr style=\"text-align: right;\">\n",
       "      <th></th>\n",
       "      <th>InvoiceNo</th>\n",
       "      <th>StockCode</th>\n",
       "      <th>Description</th>\n",
       "      <th>Quantity</th>\n",
       "      <th>InvoiceDate</th>\n",
       "      <th>UnitPrice</th>\n",
       "      <th>CustomerID</th>\n",
       "      <th>Country</th>\n",
       "    </tr>\n",
       "  </thead>\n",
       "  <tbody>\n",
       "    <tr>\n",
       "      <th>0</th>\n",
       "      <td>536365</td>\n",
       "      <td>85123A</td>\n",
       "      <td>WHITE HANGING HEART T-LIGHT HOLDER</td>\n",
       "      <td>6</td>\n",
       "      <td>2010-12-01 08:26:00</td>\n",
       "      <td>2.55</td>\n",
       "      <td>17850.0</td>\n",
       "      <td>United Kingdom</td>\n",
       "    </tr>\n",
       "    <tr>\n",
       "      <th>1</th>\n",
       "      <td>536365</td>\n",
       "      <td>71053</td>\n",
       "      <td>WHITE METAL LANTERN</td>\n",
       "      <td>6</td>\n",
       "      <td>2010-12-01 08:26:00</td>\n",
       "      <td>3.39</td>\n",
       "      <td>17850.0</td>\n",
       "      <td>United Kingdom</td>\n",
       "    </tr>\n",
       "    <tr>\n",
       "      <th>2</th>\n",
       "      <td>536365</td>\n",
       "      <td>84406B</td>\n",
       "      <td>CREAM CUPID HEARTS COAT HANGER</td>\n",
       "      <td>8</td>\n",
       "      <td>2010-12-01 08:26:00</td>\n",
       "      <td>2.75</td>\n",
       "      <td>17850.0</td>\n",
       "      <td>United Kingdom</td>\n",
       "    </tr>\n",
       "    <tr>\n",
       "      <th>3</th>\n",
       "      <td>536365</td>\n",
       "      <td>84029G</td>\n",
       "      <td>KNITTED UNION FLAG HOT WATER BOTTLE</td>\n",
       "      <td>6</td>\n",
       "      <td>2010-12-01 08:26:00</td>\n",
       "      <td>3.39</td>\n",
       "      <td>17850.0</td>\n",
       "      <td>United Kingdom</td>\n",
       "    </tr>\n",
       "    <tr>\n",
       "      <th>4</th>\n",
       "      <td>536365</td>\n",
       "      <td>84029E</td>\n",
       "      <td>RED WOOLLY HOTTIE WHITE HEART.</td>\n",
       "      <td>6</td>\n",
       "      <td>2010-12-01 08:26:00</td>\n",
       "      <td>3.39</td>\n",
       "      <td>17850.0</td>\n",
       "      <td>United Kingdom</td>\n",
       "    </tr>\n",
       "  </tbody>\n",
       "</table>\n",
       "</div>"
      ],
      "text/plain": [
       "  InvoiceNo StockCode                          Description  Quantity  \\\n",
       "0    536365    85123A   WHITE HANGING HEART T-LIGHT HOLDER         6   \n",
       "1    536365     71053                  WHITE METAL LANTERN         6   \n",
       "2    536365    84406B       CREAM CUPID HEARTS COAT HANGER         8   \n",
       "3    536365    84029G  KNITTED UNION FLAG HOT WATER BOTTLE         6   \n",
       "4    536365    84029E       RED WOOLLY HOTTIE WHITE HEART.         6   \n",
       "\n",
       "          InvoiceDate  UnitPrice  CustomerID         Country  \n",
       "0 2010-12-01 08:26:00       2.55     17850.0  United Kingdom  \n",
       "1 2010-12-01 08:26:00       3.39     17850.0  United Kingdom  \n",
       "2 2010-12-01 08:26:00       2.75     17850.0  United Kingdom  \n",
       "3 2010-12-01 08:26:00       3.39     17850.0  United Kingdom  \n",
       "4 2010-12-01 08:26:00       3.39     17850.0  United Kingdom  "
      ]
     },
     "execution_count": 21,
     "metadata": {},
     "output_type": "execute_result"
    }
   ],
   "source": [
    "import pandas as pd\n",
    "\n",
    "# Load dataset\n",
    "df = pd.read_excel('../data/Online_Retail.xlsx', engine='openpyxl')\n",
    "\n",
    "# Show basic info\n",
    "df.info()\n",
    "df.head()"
   ]
  },
  {
   "cell_type": "code",
   "execution_count": 22,
   "id": "a5da9c9e",
   "metadata": {},
   "outputs": [
    {
     "data": {
      "text/plain": [
       "InvoiceNo           0\n",
       "StockCode           0\n",
       "Description      1454\n",
       "Quantity            0\n",
       "InvoiceDate         0\n",
       "UnitPrice           0\n",
       "CustomerID     135080\n",
       "Country             0\n",
       "dtype: int64"
      ]
     },
     "execution_count": 22,
     "metadata": {},
     "output_type": "execute_result"
    }
   ],
   "source": [
    "# Check null counts\n",
    "df.isnull().sum()\n",
    "\n"
   ]
  },
  {
   "cell_type": "markdown",
   "id": "f1b3c718",
   "metadata": {},
   "source": [
    "Since description is not that necesaary so we will just remove rows with null customerID."
   ]
  },
  {
   "cell_type": "code",
   "execution_count": 23,
   "id": "0500e4dc",
   "metadata": {},
   "outputs": [],
   "source": [
    "df = df.dropna(subset=['CustomerID'])\n"
   ]
  },
  {
   "cell_type": "markdown",
   "id": "ed051c05",
   "metadata": {},
   "source": [
    " Remove Canceled Orders\n",
    "Invoices that start with 'C' are canceled"
   ]
  },
  {
   "cell_type": "code",
   "execution_count": 24,
   "id": "ba221108",
   "metadata": {},
   "outputs": [],
   "source": [
    "df = df[~df['InvoiceNo'].astype(str).str.startswith('C')]"
   ]
  },
  {
   "cell_type": "markdown",
   "id": "1b1facb4",
   "metadata": {},
   "source": [
    " Remove negative or zero quantity and price"
   ]
  },
  {
   "cell_type": "code",
   "execution_count": 25,
   "id": "858df7f8",
   "metadata": {},
   "outputs": [],
   "source": [
    "df = df[(df['Quantity'] > 0) & (df['UnitPrice'] > 0)]"
   ]
  },
  {
   "cell_type": "markdown",
   "id": "1684aeaa",
   "metadata": {},
   "source": [
    "Save Cleaned Data\n",
    "- Setting index=False when using df.to_csv() tells pandas not to include the DataFrame's row index in the CSV file so that when sharing or importing the CSV, the index won't appear as an extra, unintended column"
   ]
  },
  {
   "cell_type": "code",
   "execution_count": 26,
   "id": "edbf8c99",
   "metadata": {},
   "outputs": [
    {
     "name": "stdout",
     "output_type": "stream",
     "text": [
      "(397884, 8)\n",
      "            Quantity                    InvoiceDate      UnitPrice  \\\n",
      "count  397884.000000                         397884  397884.000000   \n",
      "mean       12.988238  2011-07-10 23:41:23.511023360       3.116488   \n",
      "min         1.000000            2010-12-01 08:26:00       0.001000   \n",
      "25%         2.000000            2011-04-07 11:12:00       1.250000   \n",
      "50%         6.000000            2011-07-31 14:39:00       1.950000   \n",
      "75%        12.000000            2011-10-20 14:33:00       3.750000   \n",
      "max     80995.000000            2011-12-09 12:50:00    8142.750000   \n",
      "std       179.331775                            NaN      22.097877   \n",
      "\n",
      "          CustomerID  \n",
      "count  397884.000000  \n",
      "mean    15294.423453  \n",
      "min     12346.000000  \n",
      "25%     13969.000000  \n",
      "50%     15159.000000  \n",
      "75%     16795.000000  \n",
      "max     18287.000000  \n",
      "std      1713.141560  \n",
      "Country\n",
      "United Kingdom    354321\n",
      "Germany             9040\n",
      "France              8341\n",
      "EIRE                7236\n",
      "Spain               2484\n",
      "Name: count, dtype: int64\n"
     ]
    }
   ],
   "source": [
    "print(df.shape)\n",
    "print(df.describe())\n",
    "print(df['Country'].value_counts().head())"
   ]
  },
  {
   "cell_type": "code",
   "execution_count": 27,
   "id": "4daeeca7",
   "metadata": {},
   "outputs": [
    {
     "name": "stdout",
     "output_type": "stream",
     "text": [
      "            Quantity                    InvoiceDate      UnitPrice  \\\n",
      "count  388336.000000                         388336  388336.000000   \n",
      "mean        9.728171  2011-07-11 03:41:20.781436672       2.696660   \n",
      "min         1.000000            2010-12-01 08:26:00       0.120000   \n",
      "25%         2.000000            2011-04-07 11:30:00       1.250000   \n",
      "50%         6.000000            2011-07-31 15:24:00       1.950000   \n",
      "75%        12.000000            2011-10-20 15:57:00       3.750000   \n",
      "max       117.000000            2011-12-09 12:50:00      14.550000   \n",
      "std        13.863227                            NaN       2.462573   \n",
      "\n",
      "          CustomerID  \n",
      "count  388336.000000  \n",
      "mean    15304.335877  \n",
      "min     12347.000000  \n",
      "25%     13975.000000  \n",
      "50%     15179.000000  \n",
      "75%     16805.000000  \n",
      "max     18287.000000  \n",
      "std      1709.012254  \n"
     ]
    }
   ],
   "source": [
    "import numpy as np\n",
    "#0ptional: log transform can help spot outliers better\n",
    "df = df[\n",
    "    (df['Quantity'] < df['Quantity'].quantile(0.99)) &\n",
    "    (df['UnitPrice'] < df['UnitPrice'].quantile(0.99)) &\n",
    "    (df['Quantity'] > 0) &\n",
    "    (df['UnitPrice'] > 0.1)\n",
    "]\n",
    "print(df.describe())"
   ]
  },
  {
   "cell_type": "code",
   "execution_count": 28,
   "id": "a08d227d",
   "metadata": {},
   "outputs": [],
   "source": [
    "df.to_csv('../data/Online_Retail_Clean.csv', index=False)"
   ]
  }
 ],
 "metadata": {
  "kernelspec": {
   "display_name": "Python 3",
   "language": "python",
   "name": "python3"
  },
  "language_info": {
   "codemirror_mode": {
    "name": "ipython",
    "version": 3
   },
   "file_extension": ".py",
   "mimetype": "text/x-python",
   "name": "python",
   "nbconvert_exporter": "python",
   "pygments_lexer": "ipython3",
   "version": "3.13.3"
  }
 },
 "nbformat": 4,
 "nbformat_minor": 5
}
